{
 "cells": [
  {
   "cell_type": "markdown",
   "metadata": {},
   "source": [
    "# Deployment and Testing"
   ]
  },
  {
   "cell_type": "code",
   "execution_count": 2,
   "metadata": {},
   "outputs": [],
   "source": [
    "# Import packages \n",
    "from __future__ import print_function, division\n",
    "\n",
    "import sagemaker\n",
    "import boto3\n",
    "import os\n",
    "from sagemaker.pytorch import PyTorch\n",
    "import numpy as np # linear algebra\n",
    "import pandas as pd # data processing, CSV file I/O (e.g. pd.read_csv)\n",
    "import numpy as np\n",
    "import matplotlib.pyplot as plt\n",
    "import time\n",
    "import copy\n",
    "\n",
    "from PIL import ImageFile\n",
    "ImageFile.LOAD_TRUNCATED_IMAGES = True\n",
    "plt.ion()   # interactive mode"
   ]
  },
  {
   "cell_type": "markdown",
   "metadata": {},
   "source": [
    "## Deploy Model "
   ]
  },
  {
   "cell_type": "code",
   "execution_count": 3,
   "metadata": {},
   "outputs": [
    {
     "name": "stdout",
     "output_type": "stream",
     "text": [
      "<sagemaker.session.Session object at 0x7fb930ecd590> sagemaker-us-east-1-503563512855 us-east-1 data\n"
     ]
    }
   ],
   "source": [
    "# session and role\n",
    "sagemaker_session = sagemaker.Session()\n",
    "role = sagemaker.get_execution_role()\n",
    "region = \"us-east-1\"\n",
    "data_bucket = 'cap2-ngandn18'\n",
    "bucket = sagemaker_session.default_bucket()\n",
    "\n",
    "# Upload data to S3 bucket.\n",
    "os.environ[\"DEFAULT_S3_BUCKET\"] = bucket\n",
    "datapath = 'data'\n",
    "print(sagemaker_session, bucket, region, datapath)"
   ]
  },
  {
   "cell_type": "code",
   "execution_count": 4,
   "metadata": {},
   "outputs": [
    {
     "name": "stdout",
     "output_type": "stream",
     "text": [
      "training_job_name = pytorch-training-2022-01-19-11-46-10-633\n"
     ]
    }
   ],
   "source": [
    "# Deploy your model to an endpoint\n",
    "training_job_name = 'pytorch-training-2022-01-19-11-46-10-633'\n",
    "print(f'training_job_name = {training_job_name}')"
   ]
  },
  {
   "cell_type": "code",
   "execution_count": 5,
   "metadata": {},
   "outputs": [
    {
     "name": "stdout",
     "output_type": "stream",
     "text": [
      "s3://sagemaker-us-east-1-503563512855/pytorch-training-2022-01-19-11-46-10-633/output/model.tar.gz\n"
     ]
    }
   ],
   "source": [
    "bucket = sagemaker_session.default_bucket()\n",
    "model_name = 's3://{}/{}/output/model.tar.gz'.format(bucket,training_job_name)\n",
    "print(model_name)"
   ]
  },
  {
   "cell_type": "code",
   "execution_count": 6,
   "metadata": {},
   "outputs": [],
   "source": [
    "from sagemaker.predictor import Predictor\n",
    "from sagemaker.pytorch import PyTorchModel\n",
    "\n",
    "jpeg_serializer = sagemaker.serializers.IdentitySerializer(\"image/jpeg\")\n",
    "json_deserializer = sagemaker.deserializers.JSONDeserializer()\n",
    "\n",
    "model_name = 's3://{}/{}/output/model.tar.gz'.format(bucket,training_job_name)\n",
    "\n",
    "class ImagePredictor(Predictor):\n",
    "    def __init__(self, endpoint_name, sagemaker_session):\n",
    "        super(ImagePredictor, self).__init__(\n",
    "            endpoint_name,\n",
    "            sagemaker_session=sagemaker_session,\n",
    "            serializer=jpeg_serializer,\n",
    "            deserializer=json_deserializer,\n",
    "        )\n",
    "\n",
    "fn_model = PyTorchModel(model_data=model_name, \n",
    "                         role=role,\n",
    "                         entry_point='inference.py',\n",
    "                         py_version='py38',\n",
    "                         framework_version='1.9',\n",
    "                         predictor_cls=ImagePredictor\n",
    "                        )"
   ]
  },
  {
   "cell_type": "code",
   "execution_count": 30,
   "metadata": {},
   "outputs": [
    {
     "name": "stdout",
     "output_type": "stream",
     "text": [
      "------!Time deploy: 190.0153739452362 s\n",
      "pytorch-inference-2022-01-20-14-02-40-688\n"
     ]
    }
   ],
   "source": [
    "#### Important\n",
    "from time import time\n",
    "since = time()\n",
    "fn_predictor = fn_model.deploy(\n",
    "    initial_instance_count=1, \n",
    "    instance_type=\"ml.m5.xlarge\"\n",
    "    ) \n",
    "print(f'Time deploy: {time() - since} s')\n",
    "\n",
    "endpoint_name = fn_predictor.endpoint_name\n",
    "print(endpoint_name)\n",
    "# pytorch-inference-2021-12-13-20-31-24-675"
   ]
  },
  {
   "cell_type": "code",
   "execution_count": 31,
   "metadata": {},
   "outputs": [
    {
     "name": "stdout",
     "output_type": "stream",
     "text": [
      "endpoint_name = pytorch-inference-2022-01-20-14-02-40-688\n"
     ]
    }
   ],
   "source": [
    "print(f'endpoint_name = {endpoint_name}')"
   ]
  },
  {
   "cell_type": "markdown",
   "metadata": {},
   "source": [
    "### Predicting"
   ]
  },
  {
   "cell_type": "code",
   "execution_count": 17,
   "metadata": {},
   "outputs": [],
   "source": [
    "import pandas as pd\n",
    "import matplotlib.pyplot as plt\n",
    "import seaborn as sns\n",
    "import os\n",
    "\n",
    "import numpy as np\n",
    "import random\n",
    "from time import time"
   ]
  },
  {
   "cell_type": "code",
   "execution_count": 18,
   "metadata": {},
   "outputs": [],
   "source": [
    "# Get test image info\n",
    "testset = pd.read_csv('test.csv')\n",
    "labels = list(testset['label'])\n",
    "fullnames = list(testset['fullname'])"
   ]
  },
  {
   "cell_type": "code",
   "execution_count": 19,
   "metadata": {},
   "outputs": [
    {
     "data": {
      "text/plain": [
       "7    1000\n",
       "6    1000\n",
       "5    1000\n",
       "4    1000\n",
       "3    1000\n",
       "2    1000\n",
       "9    1000\n",
       "1    1000\n",
       "8    1000\n",
       "0    1000\n",
       "Name: label, dtype: int64"
      ]
     },
     "execution_count": 19,
     "metadata": {},
     "output_type": "execute_result"
    }
   ],
   "source": [
    "testset['label'].value_counts()"
   ]
  },
  {
   "cell_type": "code",
   "execution_count": 20,
   "metadata": {},
   "outputs": [
    {
     "name": "stdout",
     "output_type": "stream",
     "text": [
      "(0, 'data/test/0/jumbo_jet_s_000306.png')\n"
     ]
    }
   ],
   "source": [
    "# Get label~classid and filename randomly\n",
    "def get_file_classid():\n",
    "    row = random.randint(0, len(testset)-1)\n",
    "    return labels[row], fullnames[row] \n",
    "    # ldic[row].values()\n",
    "print(get_file_classid())"
   ]
  },
  {
   "cell_type": "code",
   "execution_count": 21,
   "metadata": {},
   "outputs": [
    {
     "data": {
      "text/plain": [
       "2896"
      ]
     },
     "execution_count": 21,
     "metadata": {},
     "output_type": "execute_result"
    }
   ],
   "source": [
    "# Check the result\n",
    "classid, filename = get_file_classid()\n",
    "with open(filename, \"rb\") as f:\n",
    "    payload = f.read()\n",
    "len(payload)"
   ]
  },
  {
   "cell_type": "code",
   "execution_count": 33,
   "metadata": {},
   "outputs": [
    {
     "name": "stdout",
     "output_type": "stream",
     "text": [
      "Time Prediction: 0.17029905319213867 s\n"
     ]
    }
   ],
   "source": [
    "# Predict one test file \n",
    "from sagemaker.serializers import IdentitySerializer\n",
    "with open(filename, \"rb\") as f:\n",
    "    payload = f.read()\n",
    "    \n",
    "since = time()\n",
    "fn_predictor.serializer = IdentitySerializer(\"image/jpeg\")\n",
    "inference = fn_predictor.predict(payload)\n",
    "print(f'Time Prediction: {time() - since} s')"
   ]
  },
  {
   "cell_type": "code",
   "execution_count": 34,
   "metadata": {},
   "outputs": [
    {
     "name": "stdout",
     "output_type": "stream",
     "text": [
      "<class 'list'> \n",
      " 10 \n",
      " [5.852695465087891, -3.7856357097625732, 2.849529504776001, 1.3429663181304932, 1.5686414241790771, -1.5139240026474, -1.9197814464569092, -1.5171016454696655, 2.1233861446380615, -1.7676165103912354]\n",
      "Prediction is not correct\n",
      "0 data/test/2/gamecock_s_000228.png 7\n"
     ]
    }
   ],
   "source": [
    "print(type(inference[0]),'\\n',len(inference[0]), '\\n', inference[0])\n",
    "prediction = np.argmax(inference)\n",
    "if prediction == classid:\n",
    "    print('Prediction is correct')\n",
    "else:\n",
    "    print('Prediction is not correct')\n",
    "print(prediction, filename, classid)"
   ]
  },
  {
   "cell_type": "code",
   "execution_count": 35,
   "metadata": {},
   "outputs": [
    {
     "name": "stdout",
     "output_type": "stream",
     "text": [
      "Time 100 Prediction:  12.43 s\n",
      "Accuracy of 100 predictions:  0.8500 =  85%\n"
     ]
    }
   ],
   "source": [
    "# Test 100-image prediction\n",
    "since = time()\n",
    "infers = []\n",
    "files = []\n",
    "classes = []\n",
    "preds = []\n",
    "count = 0\n",
    "nums = 100\n",
    "for k in range(nums):\n",
    "    classid, filename = get_file_classid()\n",
    "    classes.append(classid)\n",
    "    files.append(filename)\n",
    "    with open(filename, \"rb\") as f:\n",
    "        payload = f.read()\n",
    "    \n",
    "    inference = fn_predictor.predict(payload)\n",
    "    infers.append(inference[0])\n",
    "    prediction = np.argmax(inference[0])\n",
    "    preds.append(prediction)\n",
    "    if prediction == classid:\n",
    "        count = count + 1\n",
    "\n",
    "print(f'Time {nums} Prediction: {time() - since: .02f} s')\n",
    "accu = count / nums\n",
    "print(f'Accuracy of {nums} predictions: {accu: .04f} = {accu*100: .0f}%')"
   ]
  },
  {
   "cell_type": "markdown",
   "metadata": {},
   "source": [
    "### Prediction of all test images"
   ]
  },
  {
   "cell_type": "code",
   "execution_count": 37,
   "metadata": {},
   "outputs": [
    {
     "name": "stdout",
     "output_type": "stream",
     "text": [
      "Time 10000 Prediction:  1155.7 s\n"
     ]
    }
   ],
   "source": [
    "import random\n",
    "from time import time\n",
    "\n",
    "since = time()\n",
    "infers = []\n",
    "preds = []\n",
    "count = 0\n",
    "nums = len(fullnames)\n",
    "\n",
    "for k in range(nums):\n",
    "    filename = fullnames[k]\n",
    "    with open(filename, \"rb\") as f:\n",
    "        payload = f.read()\n",
    "    \n",
    "    inference = fn_predictor.predict(payload)\n",
    "    infers.append(inference[0])\n",
    "    prediction = np.argmax(inference[0])\n",
    "    # Save prediction fro reuse later    \n",
    "    preds.append(prediction)\n",
    "        \n",
    "print(f'Time {nums} Prediction: {time() - since: .01f} s')"
   ]
  },
  {
   "cell_type": "code",
   "execution_count": 39,
   "metadata": {},
   "outputs": [
    {
     "name": "stdout",
     "output_type": "stream",
     "text": [
      "Accuracy of all test directory predictions:  0.8035 =  80%\n"
     ]
    }
   ],
   "source": [
    "df_prediction = pd.DataFrame({'label': labels,'pred': preds})\n",
    "\n",
    "N = len(labels)\n",
    "equal_inds = df_prediction['label'] == df_prediction['pred']\n",
    "nums = sum(equal_inds)\n",
    "accu = nums / N\n",
    "print(f'Accuracy of all test directory predictions: {accu: .04f} = {accu*100: .0f}%')\n",
    "df_prediction.to_csv('prediction.csv', index=False)"
   ]
  },
  {
   "cell_type": "code",
   "execution_count": 40,
   "metadata": {},
   "outputs": [],
   "source": [
    "with open ('preds3.txt', 'w') as f:\n",
    "    f.write(str(preds))\n",
    "with open ('infers3.txt', 'w') as f:\n",
    "    f.write(str(infers))"
   ]
  },
  {
   "cell_type": "code",
   "execution_count": 46,
   "metadata": {},
   "outputs": [
    {
     "data": {
      "text/plain": [
       "0.8035"
      ]
     },
     "execution_count": 46,
     "metadata": {},
     "output_type": "execute_result"
    }
   ],
   "source": [
    "equal_inds = df_prediction['label'] == df_prediction['pred']\n",
    "nums = sum(equal_inds)\n",
    "accuracy = nums / N\n",
    "accuracy"
   ]
  },
  {
   "cell_type": "code",
   "execution_count": 47,
   "metadata": {},
   "outputs": [
    {
     "name": "stdout",
     "output_type": "stream",
     "text": [
      "<class 'pandas.core.series.Series'> \n",
      " 8    965\n",
      "0    928\n",
      "3    903\n",
      "4    870\n",
      "2    826\n",
      "1    788\n",
      "7    741\n",
      "6    735\n",
      "9    694\n",
      "5    585\n",
      "Name: label, dtype: int64\n",
      "{3: 903, 8: 965, 0: 928, 6: 735, 1: 788, 9: 694, 5: 585, 7: 741, 4: 870, 2: 826}\n"
     ]
    }
   ],
   "source": [
    "df_equal = df_prediction['label'][equal_inds]\n",
    "df_equal.reset_index(drop=True, inplace=True)\n",
    "print(type(df_equal.value_counts()), '\\n',df_equal.value_counts())\n",
    "# Prepare data for calculating each class accuracy\n",
    "classes = {}\n",
    "for j in range(len(df_equal)):\n",
    "    k = df_equal[j]\n",
    "    if k not in classes.keys():\n",
    "        classes[k] = 1\n",
    "    else:\n",
    "        classes[k] += 1\n",
    "        \n",
    "print(classes)"
   ]
  },
  {
   "cell_type": "code",
   "execution_count": 32,
   "metadata": {},
   "outputs": [],
   "source": [
    "# TODO: Remember to shutdown/delete your endpoint once your work is done\n",
    "# fn_predictor.delete_endpoint()\n",
    "### Finish"
   ]
  },
  {
   "cell_type": "code",
   "execution_count": 29,
   "metadata": {},
   "outputs": [
    {
     "name": "stdout",
     "output_type": "stream",
     "text": [
      "Accuracy of class 0:  0.9280 ~ 93%\n",
      "Accuracy of class 1:  0.7880 ~ 79%\n",
      "Accuracy of class 2:  0.8260 ~ 83%\n",
      "Accuracy of class 3:  0.9030 ~ 90%\n",
      "Accuracy of class 4:  0.8700 ~ 87%\n",
      "Accuracy of class 5:  0.5850 ~ 58%\n",
      "Accuracy of class 6:  0.7350 ~ 74%\n",
      "Accuracy of class 7:  0.7410 ~ 74%\n",
      "Accuracy of class 8:  0.9650 ~ 96%\n",
      "Accuracy of class 9:  0.6940 ~ 69%\n"
     ]
    }
   ],
   "source": [
    "CLS_LENGTH = 1000\n",
    "cls_ratio = []\n",
    "for k in range(10):\n",
    "    cls_ratio.append(classes[k]/CLS_LENGTH)\n",
    "    print(f'Accuracy of class {k}: {cls_ratio[k]: 0.4f} ~{100*cls_ratio[k]: 0.0f}%')"
   ]
  },
  {
   "cell_type": "code",
   "execution_count": 10,
   "metadata": {},
   "outputs": [
    {
     "data": {
      "text/html": [
       "<div>\n",
       "<style scoped>\n",
       "    .dataframe tbody tr th:only-of-type {\n",
       "        vertical-align: middle;\n",
       "    }\n",
       "\n",
       "    .dataframe tbody tr th {\n",
       "        vertical-align: top;\n",
       "    }\n",
       "\n",
       "    .dataframe thead th {\n",
       "        text-align: right;\n",
       "    }\n",
       "</style>\n",
       "<table border=\"1\" class=\"dataframe\">\n",
       "  <thead>\n",
       "    <tr style=\"text-align: right;\">\n",
       "      <th></th>\n",
       "      <th>class_id</th>\n",
       "      <th>class_name</th>\n",
       "    </tr>\n",
       "  </thead>\n",
       "  <tbody>\n",
       "    <tr>\n",
       "      <th>0</th>\n",
       "      <td>0</td>\n",
       "      <td>airplane</td>\n",
       "    </tr>\n",
       "    <tr>\n",
       "      <th>1</th>\n",
       "      <td>1</td>\n",
       "      <td>automobile</td>\n",
       "    </tr>\n",
       "    <tr>\n",
       "      <th>2</th>\n",
       "      <td>2</td>\n",
       "      <td>bird</td>\n",
       "    </tr>\n",
       "    <tr>\n",
       "      <th>3</th>\n",
       "      <td>3</td>\n",
       "      <td>cat</td>\n",
       "    </tr>\n",
       "    <tr>\n",
       "      <th>4</th>\n",
       "      <td>4</td>\n",
       "      <td>deer</td>\n",
       "    </tr>\n",
       "    <tr>\n",
       "      <th>5</th>\n",
       "      <td>5</td>\n",
       "      <td>dog</td>\n",
       "    </tr>\n",
       "    <tr>\n",
       "      <th>6</th>\n",
       "      <td>6</td>\n",
       "      <td>frog</td>\n",
       "    </tr>\n",
       "    <tr>\n",
       "      <th>7</th>\n",
       "      <td>7</td>\n",
       "      <td>horse</td>\n",
       "    </tr>\n",
       "    <tr>\n",
       "      <th>8</th>\n",
       "      <td>8</td>\n",
       "      <td>ship</td>\n",
       "    </tr>\n",
       "    <tr>\n",
       "      <th>9</th>\n",
       "      <td>9</td>\n",
       "      <td>truck</td>\n",
       "    </tr>\n",
       "  </tbody>\n",
       "</table>\n",
       "</div>"
      ],
      "text/plain": [
       "   class_id  class_name\n",
       "0         0    airplane\n",
       "1         1  automobile\n",
       "2         2        bird\n",
       "3         3         cat\n",
       "4         4        deer\n",
       "5         5         dog\n",
       "6         6        frog\n",
       "7         7       horse\n",
       "8         8        ship\n",
       "9         9       truck"
      ]
     },
     "execution_count": 10,
     "metadata": {},
     "output_type": "execute_result"
    }
   ],
   "source": [
    "cls_names = pd.read_csv('classes.csv')\n",
    "cls_names"
   ]
  },
  {
   "cell_type": "code",
   "execution_count": 23,
   "metadata": {},
   "outputs": [
    {
     "name": "stdout",
     "output_type": "stream",
     "text": [
      "Accuracy of class airplane: 0.9280 ~ \t 93%\n",
      "Accuracy of class automobile: 0.7880 ~ \t 79%\n",
      "Accuracy of class bird: 0.8260 ~ \t 83%\n",
      "Accuracy of class cat: 0.9030 ~ \t 90%\n",
      "Accuracy of class deer: 0.8700 ~ \t 87%\n",
      "Accuracy of class dog: 0.5850 ~ \t 58%\n",
      "Accuracy of class frog: 0.7350 ~ \t 74%\n",
      "Accuracy of class horse: 0.7410 ~ \t 74%\n",
      "Accuracy of class ship: 0.9650 ~ \t 96%\n",
      "Accuracy of class truck: 0.6940 ~ \t 69%\n"
     ]
    }
   ],
   "source": [
    "for k in range(10):\n",
    "    cls_ratio.append(classes[k]/CLS_LENGTH)\n",
    "    print(f'Accuracy of class {cls_names[\"class_name\"][k]}:{cls_ratio[k]: 0.4f} ~ \\t{100*cls_ratio[k]: 0.0f}%')"
   ]
  },
  {
   "cell_type": "code",
   "execution_count": 35,
   "metadata": {},
   "outputs": [
    {
     "data": {
      "application/javascript": [
       "\n",
       "        if (window._pyforest_update_imports_cell) { window._pyforest_update_imports_cell('import matplotlib.pyplot as plt'); }\n",
       "    "
      ],
      "text/plain": [
       "<IPython.core.display.Javascript object>"
      ]
     },
     "metadata": {},
     "output_type": "display_data"
    },
    {
     "data": {
      "application/javascript": [
       "\n",
       "        if (window._pyforest_update_imports_cell) { window._pyforest_update_imports_cell('import matplotlib.pyplot as plt'); }\n",
       "    "
      ],
      "text/plain": [
       "<IPython.core.display.Javascript object>"
      ]
     },
     "metadata": {},
     "output_type": "display_data"
    },
    {
     "data": {
      "application/javascript": [
       "\n",
       "        if (window._pyforest_update_imports_cell) { window._pyforest_update_imports_cell('import matplotlib.pyplot as plt'); }\n",
       "    "
      ],
      "text/plain": [
       "<IPython.core.display.Javascript object>"
      ]
     },
     "metadata": {},
     "output_type": "display_data"
    },
    {
     "data": {
      "application/javascript": [
       "\n",
       "        if (window._pyforest_update_imports_cell) { window._pyforest_update_imports_cell('import matplotlib.pyplot as plt'); }\n",
       "    "
      ],
      "text/plain": [
       "<IPython.core.display.Javascript object>"
      ]
     },
     "metadata": {},
     "output_type": "display_data"
    },
    {
     "data": {
      "application/javascript": [
       "\n",
       "        if (window._pyforest_update_imports_cell) { window._pyforest_update_imports_cell('import matplotlib.pyplot as plt'); }\n",
       "    "
      ],
      "text/plain": [
       "<IPython.core.display.Javascript object>"
      ]
     },
     "metadata": {},
     "output_type": "display_data"
    },
    {
     "data": {
      "application/javascript": [
       "\n",
       "        if (window._pyforest_update_imports_cell) { window._pyforest_update_imports_cell('import matplotlib.pyplot as plt'); }\n",
       "    "
      ],
      "text/plain": [
       "<IPython.core.display.Javascript object>"
      ]
     },
     "metadata": {},
     "output_type": "display_data"
    },
    {
     "data": {
      "application/javascript": [
       "\n",
       "        if (window._pyforest_update_imports_cell) { window._pyforest_update_imports_cell('import matplotlib.pyplot as plt'); }\n",
       "    "
      ],
      "text/plain": [
       "<IPython.core.display.Javascript object>"
      ]
     },
     "metadata": {},
     "output_type": "display_data"
    },
    {
     "data": {
      "application/javascript": [
       "\n",
       "        if (window._pyforest_update_imports_cell) { window._pyforest_update_imports_cell('import matplotlib.pyplot as plt'); }\n",
       "    "
      ],
      "text/plain": [
       "<IPython.core.display.Javascript object>"
      ]
     },
     "metadata": {},
     "output_type": "display_data"
    },
    {
     "data": {
      "image/png": "[encoded data removed]",
      "text/plain": [
       "<Figure size 432x288 with 1 Axes>"
      ]
     },
     "metadata": {},
     "output_type": "display_data"
    }
   ],
   "source": [
    "# Plot the data\n",
    "x,y = list(cls_names['class_name']), cls_ratio\n",
    "plt.scatter(x, y, c=['r' if k<.80 else 'b' for k in y ])\n",
    "plt.axhline(y=0.80, color='g', linestyle='--')\n",
    "plt.ylim(bottom=.4,top=1.02)\n",
    "\n",
    "# Add labels\n",
    "plt.ylabel(\"Accuracy\")\n",
    "# plt.suptitle(\"Bogo Test Scores\", size=14)\n",
    "plt.title(\"Test Class Scores\", size=14)\n",
    "\n",
    "# Give it some pizzaz!\n",
    "plt.style.use(\"Solarize_Light2\")\n",
    "plt.gcf().autofmt_xdate()\n",
    "plt.show()"
   ]
  },
  {
   "cell_type": "code",
   "execution_count": null,
   "metadata": {},
   "outputs": [],
   "source": []
  },
  {
   "cell_type": "code",
   "execution_count": null,
   "metadata": {},
   "outputs": [],
   "source": [
    "# TODO: Remember to shutdown/delete your endpoint once your work is done\n",
    "fn_predictor.delete_endpoint()\n",
    "### Finish"
   ]
  }
 ],
 "metadata": {
  "instance_type": "ml.t3.medium",
  "interpreter": {
   "hash": "2b6c618483631ac6f9eec4ceb1a0a5e05fe7f914092d63af848ea5b0dfea07a1"
  },
  "kernelspec": {
   "display_name": "Python 3",
   "language": "python",
   "name": "python3"
  },
  "language_info": {
   "codemirror_mode": {
    "name": "ipython",
    "version": 3
   },
   "file_extension": ".py",
   "mimetype": "text/x-python",
   "name": "python",
   "nbconvert_exporter": "python",
   "pygments_lexer": "ipython3",
   "version": "3.8.3"
  }
 },
 "nbformat": 4,
 "nbformat_minor": 4
}
